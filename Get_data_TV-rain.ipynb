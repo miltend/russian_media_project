{
 "cells": [
  {
   "cell_type": "code",
   "execution_count": null,
   "id": "2476dfa8",
   "metadata": {
    "scrolled": false
   },
   "outputs": [],
   "source": [
    "from bs4 import BeautifulSoup\n",
    "import config\n",
    "import requests\n",
    "from urllib.parse import urljoin\n",
    "from tqdm.auto import tqdm\n",
    "import csv\n",
    "import urllib.parse\n",
    "\n",
    "#headers = {'content-type': 'text/html'}\n",
    "headers = {'User Agent': 'Mozilla/5.0 (Windows NT 10.0; Win64; x64) AppleWebKit/537.36 (KHTML, like Gecko) Chrome/109.0.0.0 Safari/537.36'}\n",
    "\n",
    "words_full = [\"Россия\", \"Украина\", \"Путин\", \"Европа\", \"Зеленский\"]\n",
    "words_encode = []\n",
    "for words in words_full:\n",
    "    words_encode.append(urllib.parse.quote(words.encode('utf-8'))) # tvrain's url encodes queries in the utf-8 format\n",
    "\n",
    "links_list = []\n",
    "for words in words_encode: # loop for each search word\n",
    "    articles_visited = 0\n",
    "    for i in range(2,50): # loop for pages in each search\n",
    "        url = f\"https://tvrain.tv/archive/?query={words}&page={i}\"\n",
    "        doc = requests.get(url, headers=headers)\n",
    "        soup = BeautifulSoup(doc.text, \"html.parser\")\n",
    "        data = soup.findAll('div',attrs={'class':'chrono_list__item__info'})\n",
    "        while articles_visited < 160: #the amount of articles for each word\n",
    "            for div in data:\n",
    "                links = div.findAll('a', attrs={'class':'chrono_list__item__info__name chrono_list__item__info__name--nocursor'})\n",
    "                for a in links:\n",
    "                    if a not in links_list:\n",
    "                        links_list.append(a['href'])\n",
    "                        articles_visited += 1\n",
    "#print(links_list)\n",
    "print(len(links_list))"
   ]
  },
  {
   "cell_type": "code",
   "execution_count": null,
   "id": "6e03e0c4",
   "metadata": {},
   "outputs": [],
   "source": [
    "with open(\"data_tvRain.txt\", \"w\", encoding=\"utf-8\") as f:\n",
    "#    writer = csv.writer(f)\n",
    "    for link in tqdm(links_list):\n",
    "        doc2 = requests.get(f'https://tvrain.tv/{link}', headers=headers)\n",
    "        soup_article = BeautifulSoup(doc2.text, \"html.parser\")\n",
    "        text = \" \"\n",
    "        paragraphs = [paragraph.text for paragraph in soup_article.findAll('p')]\n",
    "        text = text.join(paragraphs).strip()\n",
    "        f.write(text + \"\\n\")\n",
    "#        writer.writerow([text])"
   ]
  }
 ],
 "metadata": {
  "kernelspec": {
   "display_name": "Python 3 (ipykernel)",
   "language": "python",
   "name": "python3"
  },
  "language_info": {
   "codemirror_mode": {
    "name": "ipython",
    "version": 3
   },
   "file_extension": ".py",
   "mimetype": "text/x-python",
   "name": "python",
   "nbconvert_exporter": "python",
   "pygments_lexer": "ipython3",
   "version": "3.9.13"
  }
 },
 "nbformat": 4,
 "nbformat_minor": 5
}
