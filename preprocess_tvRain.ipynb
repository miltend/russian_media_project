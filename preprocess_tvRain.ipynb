{
 "cells": [
  {
   "cell_type": "code",
   "execution_count": 1,
   "id": "9d0418c9",
   "metadata": {},
   "outputs": [
    {
     "name": "stdout",
     "output_type": "stream",
     "text": [
      "Requirement already satisfied: pymystem3 in c:\\users\\mevol\\anaconda3\\lib\\site-packages (0.2.0)\n",
      "Requirement already satisfied: requests in c:\\users\\mevol\\anaconda3\\lib\\site-packages (from pymystem3) (2.28.1)\n",
      "Requirement already satisfied: idna<4,>=2.5 in c:\\users\\mevol\\anaconda3\\lib\\site-packages (from requests->pymystem3) (3.3)\n",
      "Requirement already satisfied: certifi>=2017.4.17 in c:\\users\\mevol\\anaconda3\\lib\\site-packages (from requests->pymystem3) (2022.9.14)\n",
      "Requirement already satisfied: charset-normalizer<3,>=2 in c:\\users\\mevol\\anaconda3\\lib\\site-packages (from requests->pymystem3) (2.0.4)\n",
      "Requirement already satisfied: urllib3<1.27,>=1.21.1 in c:\\users\\mevol\\anaconda3\\lib\\site-packages (from requests->pymystem3) (1.26.11)\n",
      "Requirement already satisfied: natasha in c:\\users\\mevol\\anaconda3\\lib\\site-packages (1.5.0)\n",
      "Requirement already satisfied: stop-words in c:\\users\\mevol\\anaconda3\\lib\\site-packages (2018.7.23)\n",
      "Requirement already satisfied: razdel>=0.5.0 in c:\\users\\mevol\\anaconda3\\lib\\site-packages (from natasha) (0.5.0)\n",
      "Requirement already satisfied: navec>=0.9.0 in c:\\users\\mevol\\anaconda3\\lib\\site-packages (from natasha) (0.10.0)\n",
      "Requirement already satisfied: pymorphy2 in c:\\users\\mevol\\anaconda3\\lib\\site-packages (from natasha) (0.9.1)\n",
      "Requirement already satisfied: ipymarkup>=0.8.0 in c:\\users\\mevol\\anaconda3\\lib\\site-packages (from natasha) (0.9.0)\n",
      "Requirement already satisfied: slovnet>=0.6.0 in c:\\users\\mevol\\anaconda3\\lib\\site-packages (from natasha) (0.6.0)\n",
      "Requirement already satisfied: yargy>=0.14.0 in c:\\users\\mevol\\anaconda3\\lib\\site-packages (from natasha) (0.15.1)\n",
      "Requirement already satisfied: intervaltree>=3 in c:\\users\\mevol\\anaconda3\\lib\\site-packages (from ipymarkup>=0.8.0->natasha) (3.1.0)\n",
      "Requirement already satisfied: numpy in c:\\users\\mevol\\anaconda3\\lib\\site-packages (from navec>=0.9.0->natasha) (1.21.5)\n",
      "Requirement already satisfied: dawg-python>=0.7.1 in c:\\users\\mevol\\anaconda3\\lib\\site-packages (from pymorphy2->natasha) (0.7.2)\n",
      "Requirement already satisfied: docopt>=0.6 in c:\\users\\mevol\\anaconda3\\lib\\site-packages (from pymorphy2->natasha) (0.6.2)\n",
      "Requirement already satisfied: pymorphy2-dicts-ru<3.0,>=2.4 in c:\\users\\mevol\\anaconda3\\lib\\site-packages (from pymorphy2->natasha) (2.4.417127.4579844)\n",
      "Requirement already satisfied: sortedcontainers<3.0,>=2.0 in c:\\users\\mevol\\anaconda3\\lib\\site-packages (from intervaltree>=3->ipymarkup>=0.8.0->natasha) (2.4.0)\n"
     ]
    },
    {
     "name": "stderr",
     "output_type": "stream",
     "text": [
      "[nltk_data] Downloading package stopwords to\n",
      "[nltk_data]     C:\\Users\\mevol\\AppData\\Roaming\\nltk_data...\n",
      "[nltk_data]   Package stopwords is already up-to-date!\n",
      "100%|██████████████████████████████████████████████████████████████████████████| 46445/46445 [00:14<00:00, 3118.89it/s]\n",
      "100%|███████████████████████████████████████████████████████████████████| 5110335/5110335 [00:02<00:00, 1708457.44it/s]\n"
     ]
    }
   ],
   "source": [
    "!pip install pymystem3\n",
    "!pip install natasha stop-words\n",
    "import nltk\n",
    "from pymystem3 import Mystem\n",
    "from string import punctuation\n",
    "from nltk.corpus import stopwords\n",
    "from razdel import sentenize, tokenize\n",
    "from tqdm import tqdm\n",
    "\n",
    "nltk.download(\"stopwords\")\n",
    "\n",
    "punctuation += \"«»— 1234567890\"\n",
    "rus_stopwords = stopwords.words(\"russian\")\n",
    "mystem = Mystem()\n",
    "\n",
    "\n",
    "def tokenize_test(sentence):\n",
    "    tokens = [token.text.lower() for token in tokenize(sentence)]\n",
    "    tokens = [token for token in tokens if token not in rus_stopwords\n",
    "              and not set(token).intersection(punctuation)]\n",
    "    return \" \".join(tokens).strip()\n",
    "\n",
    "\n",
    "def preprocess_text(doc):\n",
    "    new_sent = tokenize_test(doc)\n",
    "    tokens = mystem.lemmatize(new_sent)\n",
    "    tokens = [token for token in tokens if token != \" \"]\n",
    "    text = \" \".join(tokens)\n",
    "    return text\n",
    "\n",
    "with open(\"data_tvRain.txt\", \"r\", encoding=\"utf-8\") as f:\n",
    "    text = f.readlines()\n",
    "\n",
    "with open(\"sentenized_tvRain.txt\", \"w\", encoding=\"utf-8\") as f:\n",
    "    for line in tqdm(text):\n",
    "        sentences = [sent.text for sent in list(sentenize(line))]\n",
    "        for sentence in sentences:\n",
    "            if sentence:\n",
    "                f.write(sentence + \"\\n\")\n",
    "\n",
    "\n",
    "with open(\"sentenized_tvRain.txt\", \"r\", encoding=\"utf-8\") as f:\n",
    "    new_text = f.readlines()\n",
    "doc_split = []\n",
    "buf = []\n",
    "test = preprocess_text(' ‽ '.join(new_text))\n",
    "\n",
    "for x in tqdm(test.split(' ')):\n",
    "    if '‽' in x:\n",
    "        doc_split += [' '.join(buf) + \"\\n\"]\n",
    "        buf = []\n",
    "    else:\n",
    "        buf += [x]\n",
    "doc_split += [' '.join(buf)]\n",
    "with open(\"tvRain_lemmatized.txt\", \"w\", encoding=\"utf-8\") as f:\n",
    "    f.writelines(doc_split)"
   ]
  },
  {
   "cell_type": "code",
   "execution_count": null,
   "id": "c7c7bd24",
   "metadata": {},
   "outputs": [],
   "source": []
  }
 ],
 "metadata": {
  "kernelspec": {
   "display_name": "Python 3 (ipykernel)",
   "language": "python",
   "name": "python3"
  },
  "language_info": {
   "codemirror_mode": {
    "name": "ipython",
    "version": 3
   },
   "file_extension": ".py",
   "mimetype": "text/x-python",
   "name": "python",
   "nbconvert_exporter": "python",
   "pygments_lexer": "ipython3",
   "version": "3.9.13"
  }
 },
 "nbformat": 4,
 "nbformat_minor": 5
}
